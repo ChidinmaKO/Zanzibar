{
 "cells": [
  {
   "cell_type": "markdown",
   "metadata": {},
   "source": [
    "# Week 1\n",
    "\n",
    "**Table of Contents**\n",
    "1. [Introduction to Python](#introduction-to-Python)\n",
    "2. [First Steps](#first-steps)\n",
    "3. [Python Variables and Data types](#python-variables-and-data-types)\n",
    "4. [Python Operations](#python-operations)\n",
    "5. [Strings and their Methods](#strings-and-their-methods)\n",
    "6. [Collections](#collections)\n",
    "7. \n",
    "8. [Errors](#errors)\n",
    "9. [Further Reading](#further-reading)"
   ]
  },
  {
   "cell_type": "markdown",
   "metadata": {},
   "source": [
    "<a id='introduction-to-Python'></a>\n",
    "## Introduction To Python"
   ]
  },
  {
   "cell_type": "markdown",
   "metadata": {},
   "source": [
    "**Python** is a programming language created by Guido Van Rossum in the late 1980s and is currently the [fastest-growing](https://insights.stackoverflow.com/survey/2019) major programming language.\n",
    "\n",
    "**Python** is Open Source and has a wide variety of applications such as:\n",
    "1. Artificial Intelligence / Machine Learning\n",
    "    - SciPi\n",
    "    - NumPy\n",
    "    - Pandas\n",
    "    - PyTorch\n",
    "2. Hardware and Micro-controllers\n",
    "    - Raspberry Pi\n",
    "    - MicroPython\n",
    "    - CircuitPython\n",
    "3. Web Development\n",
    "    - Django\n",
    "    - Flask\n",
    "4. Scripting\n",
    "    - Dev Ops Configuration scripts\n",
    "5. Mathematics"
   ]
  },
  {
   "cell_type": "markdown",
   "metadata": {},
   "source": [
    "<a id='first-steps'></a>\n",
    "## First Steps"
   ]
  },
  {
   "cell_type": "markdown",
   "metadata": {},
   "source": [
    "**Printing**\n",
    "\n",
    "To print a python script we use the print command: print( )"
   ]
  },
  {
   "cell_type": "code",
   "execution_count": null,
   "metadata": {
    "scrolled": true
   },
   "outputs": [],
   "source": [
    "print(\"Hello World. I am an awesome python programmer!\")"
   ]
  },
  {
   "cell_type": "code",
   "execution_count": null,
   "metadata": {},
   "outputs": [],
   "source": [
    "print(1234567890)"
   ]
  },
  {
   "cell_type": "markdown",
   "metadata": {},
   "source": [
    "**Comments** are complete sentences that are for you or anyone reading your code. Python's interpreter won't process your comments."
   ]
  },
  {
   "cell_type": "code",
   "execution_count": null,
   "metadata": {},
   "outputs": [],
   "source": [
    "# I am a block comment"
   ]
  },
  {
   "cell_type": "code",
   "execution_count": null,
   "metadata": {
    "scrolled": true
   },
   "outputs": [],
   "source": [
    "\"\"\"\n",
    "I am a docstring. I \n",
    "can be oneline or multiline.\n",
    "Unless I am used as a docstring, I am basically ignored!\n",
    "Check me out!\n",
    "\"\"\"\n",
    "print(10)"
   ]
  },
  {
   "cell_type": "markdown",
   "metadata": {},
   "source": [
    "Note:\n",
    "[PEP8](https://www.python.org/dev/peps/pep-0008/#block-comments), Python's official style guide, favours using block comments."
   ]
  },
  {
   "cell_type": "markdown",
   "metadata": {},
   "source": [
    "**TODO**\n",
    "1. Print the name of your city."
   ]
  },
  {
   "cell_type": "markdown",
   "metadata": {},
   "source": [
    "<a id='python-variables-and-data-types'></a>\n",
    "## Python Variables and Data types"
   ]
  },
  {
   "cell_type": "markdown",
   "metadata": {},
   "source": [
    "### Variables"
   ]
  },
  {
   "cell_type": "markdown",
   "metadata": {},
   "source": [
    "Python Variables allow us to store information and give it a label that we can use to retrieve that information later. Unlike other programming languages, Python has no command for declaring a variable."
   ]
  },
  {
   "cell_type": "code",
   "execution_count": null,
   "metadata": {
    "scrolled": true
   },
   "outputs": [],
   "source": [
    "x = 7\n",
    "y = \"Netherlands\"\n",
    "print(x)\n",
    "print(y)"
   ]
  },
  {
   "cell_type": "markdown",
   "metadata": {},
   "source": [
    "Python variables are generally in lower case (Snake case) and separated by underscores."
   ]
  },
  {
   "cell_type": "code",
   "execution_count": null,
   "metadata": {
    "scrolled": true
   },
   "outputs": [],
   "source": [
    "my_first_name = \"Chidinma\"\n",
    "print(my_first_name)"
   ]
  },
  {
   "cell_type": "markdown",
   "metadata": {},
   "source": [
    "### Data Types"
   ]
  },
  {
   "cell_type": "markdown",
   "metadata": {},
   "source": [
    "#### Numbers"
   ]
  },
  {
   "cell_type": "markdown",
   "metadata": {},
   "source": [
    "There are three different types of numbers in Python: **int** for Integer, **Float**, and **Complex**."
   ]
  },
  {
   "cell_type": "code",
   "execution_count": null,
   "metadata": {},
   "outputs": [],
   "source": [
    "# These are integers\n",
    "x = 10\n",
    "y = -19\n",
    "z = 0"
   ]
  },
  {
   "cell_type": "code",
   "execution_count": null,
   "metadata": {},
   "outputs": [],
   "source": [
    "# These are floats\n",
    "x = 3.141592653589793238462643383279502884197169\n",
    "y = -10.223\n",
    "z = 0."
   ]
  },
  {
   "cell_type": "code",
   "execution_count": null,
   "metadata": {},
   "outputs": [],
   "source": [
    "# This is a complex number\n",
    "x = 42j "
   ]
  },
  {
   "cell_type": "markdown",
   "metadata": {},
   "source": [
    "#### Boolean"
   ]
  },
  {
   "cell_type": "markdown",
   "metadata": {},
   "source": [
    "In Python, Booleans are of type bool. Booleans are True and False"
   ]
  },
  {
   "cell_type": "code",
   "execution_count": null,
   "metadata": {
    "scrolled": true
   },
   "outputs": [],
   "source": [
    "x = True\n",
    "print(x)"
   ]
  },
  {
   "cell_type": "code",
   "execution_count": null,
   "metadata": {},
   "outputs": [],
   "source": [
    "y = False\n",
    "print(y)"
   ]
  },
  {
   "cell_type": "markdown",
   "metadata": {},
   "source": [
    "Surprisingly, the boolean types True and False are also numbers under the hood. So we can actually do things like add or subtract. We'll see this later in this lesson.\n",
    "\n",
    "* True is 1 under the hood.\n",
    "* False is 0 under the hood."
   ]
  },
  {
   "cell_type": "markdown",
   "metadata": {},
   "source": [
    "#### Strings"
   ]
  },
  {
   "cell_type": "markdown",
   "metadata": {},
   "source": [
    "Strings in python are surrounded by either single quotation marks, or double quotation marks."
   ]
  },
  {
   "cell_type": "code",
   "execution_count": null,
   "metadata": {
    "scrolled": false
   },
   "outputs": [],
   "source": [
    "x = 'hello'\n",
    "y = \"hello\"\n",
    "print(x)\n",
    "print(y)"
   ]
  },
  {
   "cell_type": "markdown",
   "metadata": {},
   "source": [
    "**Concatenating Strings**\n",
    "\n",
    "Strings can be concatenated using **'+'**"
   ]
  },
  {
   "cell_type": "code",
   "execution_count": null,
   "metadata": {},
   "outputs": [],
   "source": [
    "salutation = \"Hello\"\n",
    "first_name = \"Max\"\n",
    "last_name = \"James\"\n",
    "greeting = salutation + first_name + last_name\n",
    "print(greeting)"
   ]
  },
  {
   "cell_type": "code",
   "execution_count": null,
   "metadata": {},
   "outputs": [],
   "source": [
    "greeting = salutation + \", \" + first_name + \" \" + last_name + \"! \" + \"It's nice to finally meet you.\"\n",
    "print(greeting)"
   ]
  },
  {
   "cell_type": "markdown",
   "metadata": {},
   "source": [
    "To use the same type of quote within a string, that quote needs to be escaped with a \\ - backwards slash."
   ]
  },
  {
   "cell_type": "code",
   "execution_count": null,
   "metadata": {},
   "outputs": [],
   "source": [
    "reminder = 'It\\'s my mom\\'s birthday tomorrow'\n",
    "print(reminder)"
   ]
  },
  {
   "cell_type": "markdown",
   "metadata": {},
   "source": [
    "Mixed quotes can be used instead in a Python string without escaping."
   ]
  },
  {
   "cell_type": "code",
   "execution_count": null,
   "metadata": {
    "scrolled": true
   },
   "outputs": [],
   "source": [
    "reminder = \"It's my mom's birthday tomorrow\"\n",
    "print(reminder)"
   ]
  },
  {
   "cell_type": "markdown",
   "metadata": {},
   "source": [
    "**Common String Errors**"
   ]
  },
  {
   "cell_type": "code",
   "execution_count": null,
   "metadata": {
    "scrolled": true
   },
   "outputs": [],
   "source": [
    "# Trying to concatenate a string with a number\n",
    "error1 = \"family\" + 3\n",
    "print(error)\n",
    "\n",
    "# Trying to print a string with mismatching string quotes\n",
    "error2 = \"I love my family'\n",
    "print(error2)\n",
    "# Come up with possible solutions for both errors"
   ]
  },
  {
   "cell_type": "code",
   "execution_count": null,
   "metadata": {},
   "outputs": [],
   "source": []
  },
  {
   "cell_type": "markdown",
   "metadata": {},
   "source": [
    "**String Formatting**"
   ]
  },
  {
   "cell_type": "code",
   "execution_count": null,
   "metadata": {},
   "outputs": [],
   "source": []
  },
  {
   "cell_type": "markdown",
   "metadata": {},
   "source": [
    "<details>\n",
    "<summary><b>Pro Tip</b> (Click to Expand)</summary>\n",
    "You can find out the data type by using Python's built in function, type(). __type()__ tells you what an object’s type is, for example a string (str) or integer (int).\n",
    "</details>"
   ]
  },
  {
   "cell_type": "code",
   "execution_count": null,
   "metadata": {},
   "outputs": [],
   "source": [
    "p = \"Python\"\n",
    "q = 22\n",
    "print(\"p: \", type(p))\n",
    "print(\"q: \", type(q))"
   ]
  },
  {
   "cell_type": "markdown",
   "metadata": {},
   "source": [
    "#### Casting"
   ]
  },
  {
   "cell_type": "code",
   "execution_count": null,
   "metadata": {},
   "outputs": [],
   "source": [
    "x = str(9)\n",
    "print(x)"
   ]
  },
  {
   "cell_type": "markdown",
   "metadata": {},
   "source": [
    "**Note:**\n",
    "1. Python Variables can't start with a number.\n",
    "Python Variables must start with a letter or the underscore character.\n",
    "2. Variable names can't contain special characters such as '!', '@', '#', '$', '%'.\n",
    "3. Your Python variables shouldn't be named 'and', 'if', 'while', 'True', 'False' because Python uses these names for program control structure. \n",
    "4. Don't give your variables the same name as our data types. For example: Don't name your variable int, dict, list, str, etc.\n",
    "Variable names are case sensitive. For example: King, king and KING are different variable names. Please beware."
   ]
  },
  {
   "cell_type": "markdown",
   "metadata": {},
   "source": [
    "**TODO:**"
   ]
  },
  {
   "cell_type": "markdown",
   "metadata": {},
   "source": [
    "<a id='python-operations'></a>\n",
    "### Python Operations"
   ]
  },
  {
   "cell_type": "markdown",
   "metadata": {},
   "source": [
    "**Arithmetic Operators**\n",
    "1. Addition +\n",
    "2. Subtraction -\n",
    "3. Multiplication *\n",
    "4. Division /\n",
    "5. Floor division //\n",
    "6. Modulus (remainder) %\n",
    "7. Exponentiation **\n",
    "8. Matrix multiplication @"
   ]
  },
  {
   "cell_type": "code",
   "execution_count": null,
   "metadata": {
    "scrolled": true
   },
   "outputs": [],
   "source": [
    "s = 3 + 5\n",
    "q = 5 - 3\n",
    "w = 3 * 4\n",
    "e = 12 / 2\n",
    "f = 20 // 3\n",
    "t = 21 % 2\n",
    "y = 2 ** 3\n",
    "\n",
    "print(s)\n",
    "print(q)\n",
    "print(w)\n",
    "print(e)\n",
    "print(f)\n",
    "print(t)\n",
    "print(y)"
   ]
  },
  {
   "cell_type": "code",
   "execution_count": null,
   "metadata": {},
   "outputs": [],
   "source": [
    "# TODO: Rewrite the code so that it accepts user input height and weight and uses that to calculate the BMI.\n",
    "height = 1.74\n",
    "weight = 80\n",
    "\n",
    "bmi = float(weight) / (height) ** 2\n",
    "\n",
    "print(\"BMI is: \" + str(bmi))"
   ]
  },
  {
   "cell_type": "markdown",
   "metadata": {},
   "source": [
    "**In-Place Operations**"
   ]
  },
  {
   "cell_type": "code",
   "execution_count": null,
   "metadata": {},
   "outputs": [],
   "source": [
    "# *=\n",
    "x = 10\n",
    "x *= 2\n",
    "print(x)\n",
    "\n",
    "# +=\n",
    "x += 4\n",
    "print(x)\n",
    "\n",
    "# -=\n",
    "x -= 1\n",
    "print(x)\n",
    "\n",
    "# /=\n",
    "x /= 5\n",
    "print(x)"
   ]
  },
  {
   "cell_type": "markdown",
   "metadata": {},
   "source": [
    "**Comparison Operators**\n",
    "1. Equal ==\n",
    "2. Not equal !=\n",
    "3. Greater than >\n",
    "4. Less than <\n",
    "5. Greater than or equal to >=\n",
    "6. Less than or equal to <="
   ]
  },
  {
   "cell_type": "code",
   "execution_count": null,
   "metadata": {},
   "outputs": [],
   "source": []
  },
  {
   "cell_type": "markdown",
   "metadata": {},
   "source": [
    "**Logical Operators**\n",
    "1. and\n",
    "2. or\n",
    "3. not"
   ]
  },
  {
   "cell_type": "code",
   "execution_count": null,
   "metadata": {},
   "outputs": [],
   "source": []
  },
  {
   "cell_type": "markdown",
   "metadata": {},
   "source": [
    "Python has other operators such as the **Bitwise**, **Membership** and **Identity** Operators."
   ]
  },
  {
   "cell_type": "markdown",
   "metadata": {},
   "source": [
    "**TODO:**\n",
    "1. Calculate your daily expenses, by taking your monthly expenses and diving it by 30. Given that your monthly expenses is €800.\n",
    "2. What is the value of a in \"a = -1 ** 2\"?\n",
    "3. What is the value of b in \"b = 99 >= 3**4 and 70 == 7 * 10 or 12 != 3 * 4\"?\n",
    "4. Accept a number from a user, print whether it is divisible by ten and greater than hundred."
   ]
  },
  {
   "cell_type": "markdown",
   "metadata": {},
   "source": [
    "<a id='strings-and-their-methods'></a>\n",
    "### Strings & their Methods"
   ]
  },
  {
   "cell_type": "markdown",
   "metadata": {},
   "source": [
    "A method is a function that is specific to a certain \"object\" in Python. Python has a set of built-in methods that you can use on strings."
   ]
  },
  {
   "cell_type": "code",
   "execution_count": null,
   "metadata": {},
   "outputs": [],
   "source": [
    "var = \"lovelace bootcamp\"\n",
    "upper_var = var.upper()\n",
    "lower_var = var.lower()\n",
    "capital_var = var.capitalize()\n",
    "title_var = var.title()\n",
    "swapcase_var = var.swapcase()\n",
    "replace_var = var.replace('l', 'r')"
   ]
  },
  {
   "cell_type": "markdown",
   "metadata": {},
   "source": [
    "Read More: [String Methods](https://docs.python.org/3/library/stdtypes.html#string-methods)"
   ]
  },
  {
   "cell_type": "markdown",
   "metadata": {},
   "source": [
    "**TODO:**\n",
    "1. Take a user input, convert the first character of each word to upper case, split the string every whitespace and join all the strings with a plus character (+)"
   ]
  },
  {
   "cell_type": "markdown",
   "metadata": {},
   "source": [
    "<a id='collections'></a>\n",
    "### Lists, Tuples, Sets, & Dictionaries"
   ]
  },
  {
   "cell_type": "markdown",
   "metadata": {},
   "source": [
    "#### Lists"
   ]
  },
  {
   "cell_type": "markdown",
   "metadata": {},
   "source": [
    "Lists are one of the most powerful data types in Python. Lists are used for storing similar items, and in cases where items need to be added or removed.\n",
    "An empty list can be created in 2 ways:\n",
    "1. By calling the list method list()\n",
    "2. By writing 2 empty brackets []"
   ]
  },
  {
   "cell_type": "code",
   "execution_count": null,
   "metadata": {},
   "outputs": [],
   "source": [
    "list_1 = [1,2,3,4,5]\n",
    "list_2 = list()"
   ]
  },
  {
   "cell_type": "code",
   "execution_count": null,
   "metadata": {},
   "outputs": [],
   "source": [
    "# Searching a list\n",
    "my_hobby_list = [\"cooking\", \"travelling\", \"teaching\"]\n",
    "print(\"cooking\" in my_hobby_list)\n",
    "\n",
    "# appending to list (add to the end)\n",
    "my_hobby_list.append(\"dancing\")\n",
    "print(my_hobby_list)\n",
    "\n",
    "# inserting an item to a particular position in a list .insert(position, item)\n",
    "my_hobby_list.insert(2, \"sleeping\")\n",
    "print(my_hobby_list)\n",
    "\n",
    "# accessing items by index\n",
    "print(my_hobby_list[0])\n",
    "\n",
    "# mutability\n",
    "my_hobby_list[0] = \"eating\"\n",
    "print(my_hobby_list)\n",
    "\n",
    "# sorting a list\n",
    "my_hobby_list.sort()\n",
    "print(my_hobby_list)\n",
    "\n",
    "# reversing a list\n",
    "my_hobby_list.reverse()\n",
    "print(my_hobby_list)\n",
    "\n",
    "# arranging a list in descending order\n",
    "my_hobby_list.sort(reverse = True)\n",
    "print(my_hobby_list)\n",
    "\n",
    "# add items from another list (extend)\n",
    "my_new_hobbies = [\"Knitting\", \"Singing\"]\n",
    "my_hobby_list.extend(my_new_hobbies)\n",
    "print(my_hobby_list)\n",
    "\n",
    "# remove an item\n",
    "my_hobby_list.remove(\"eating\")\n",
    "print(my_hobby_list)\n",
    "\n",
    "# remove an item from the last position\n",
    "my_hobby_list.pop()\n",
    "print(my_hobby_list)\n",
    "\n",
    "# remove an item from a particular index\n",
    "my_hobby_list.pop(2)\n",
    "print(my_hobby_list)"
   ]
  },
  {
   "cell_type": "markdown",
   "metadata": {},
   "source": [
    "**Common List Errors**"
   ]
  },
  {
   "cell_type": "code",
   "execution_count": null,
   "metadata": {},
   "outputs": [],
   "source": [
    "# forgetting to use commas appropriately\n",
    "first_names = [\"Jane\", \"Alex\" \"Sandra\"]\n",
    "print(first_names)"
   ]
  },
  {
   "cell_type": "markdown",
   "metadata": {},
   "source": [
    "<details>\n",
    "<summary><b>Pro Tip</b> (Click to Expand)</summary>\n",
    "To find out the built in methods for strings, lists, tuples, sets and dictionaries by typing dir(). dir() returns a list of valid attributes for an object, so you can quickly see what variables an object has or what functions you can call on it. Ignore the methods that start with underscores. \n",
    "    \n",
    "help() brings up helpful documentation on any object. You can also type help() on its own to bring an interactive help console.\n",
    "</details>"
   ]
  },
  {
   "cell_type": "markdown",
   "metadata": {},
   "source": [
    "**TODO:**\n",
    "1. Print out the built in functions for lists."
   ]
  },
  {
   "cell_type": "markdown",
   "metadata": {},
   "source": [
    "#### Tuples"
   ]
  },
  {
   "cell_type": "markdown",
   "metadata": {},
   "source": [
    "Tuple is a list that is immutable. It is used for storing a snapshot of related items when we don’t plan on modifying, adding, or removing data. Tuples can be used in other types of containers like sets and dictionaries\n",
    "Remember that because Tuples are immutable,\n",
    "1. we can’t add or remove from tuples and\n",
    "2. we can't sort tuples"
   ]
  },
  {
   "cell_type": "code",
   "execution_count": null,
   "metadata": {},
   "outputs": [],
   "source": [
    "# Create a new tuple\n",
    "my_tuple = ()\n",
    "my_other_tuple = tuple()\n",
    "\n",
    "student_tuple = (\"Victoria\", 24, \"Computer Science major\", 4.5)\n",
    "# accessing by index\n",
    "print(student_tuple[2])\n",
    "\n",
    "# reassigning tuples will result in an error\n",
    "# student_tuple[2] = \"Maths major\"\n",
    "# print(student_tuple)\n",
    "\n",
    "# Tuple Unpacking\n",
    "student_tuple = (\"Victoria\", 24, \"Computer Science major\", 4.5)\n",
    "name, age, dept, grade = student_tuple\n",
    "print(name, age, dept, grade)"
   ]
  },
  {
   "cell_type": "markdown",
   "metadata": {},
   "source": [
    "**TODO:**\n",
    "1. Print out the built in functions for tuples.\n",
    "2. "
   ]
  },
  {
   "cell_type": "markdown",
   "metadata": {},
   "source": [
    "#### Sets"
   ]
  },
  {
   "cell_type": "markdown",
   "metadata": {},
   "source": [
    "Sets are a datatype that allows you to store other immutable types in an unordered way. Sets ensure that there are no duplicates and all items are unique."
   ]
  },
  {
   "cell_type": "code",
   "execution_count": null,
   "metadata": {
    "scrolled": true
   },
   "outputs": [],
   "source": [
    "# Create a new set\n",
    "my_set = set()\n",
    "\n",
    "farming_set = {\"tractor\", \"plants\", \"water\", \"sunlight\", \"plants\", \"water\", \"cutlass\"}\n",
    "print(farming_set) #notice that all duplicates are gone\n",
    "\n",
    "# Also notice that sets don't have an order\n",
    "\n",
    "# add to a set\n",
    "farming_set.add(\"harvesters\")\n",
    "print(farming_set)\n",
    "\n",
    "# remove from a set\n",
    "farming_set.discard(\"cutlass\")\n",
    "print(farming_set)\n",
    "\n",
    "# update a set with another set\n",
    "other_farming_set = {\"sprayer\", \"mower\"}\n",
    "farming_set.update(other_farming_set)\n",
    "print(farming_set)"
   ]
  },
  {
   "cell_type": "markdown",
   "metadata": {},
   "source": [
    "**Common Set Errors**"
   ]
  },
  {
   "cell_type": "code",
   "execution_count": null,
   "metadata": {},
   "outputs": [],
   "source": [
    "# 1. Using mutable data types will result in an error\n",
    "friends = {\"max\", \"john\", \"doe\", [\"ana\", \"loes\"]}\n",
    "print(friends)"
   ]
  },
  {
   "cell_type": "code",
   "execution_count": null,
   "metadata": {
    "scrolled": true
   },
   "outputs": [],
   "source": [
    "# Trying to access set items by index will result in an error\n",
    "print(farming_set[2])"
   ]
  },
  {
   "cell_type": "code",
   "execution_count": null,
   "metadata": {},
   "outputs": [],
   "source": [
    "# updating a set with a string will give you results you might not be expecting.\n",
    "farming_set.update(\"farm robots\")\n",
    "print(farming_set)"
   ]
  },
  {
   "cell_type": "markdown",
   "metadata": {},
   "source": [
    "**TODO:**\n",
    "1. Print out the built in functions for sets."
   ]
  },
  {
   "cell_type": "markdown",
   "metadata": {},
   "source": [
    "#### Dictionaries"
   ]
  },
  {
   "cell_type": "markdown",
   "metadata": {},
   "source": [
    "Dictionary is used for storing data in key, value pairs. Keys used must be immutable data types."
   ]
  },
  {
   "cell_type": "code",
   "execution_count": null,
   "metadata": {},
   "outputs": [],
   "source": [
    "# Create a new empty dictionary\n",
    "my_dict = {}\n",
    "my_other_dict = dict()\n",
    "\n",
    "\n",
    "my_fitness_dict = {1: \"football\", 2: \"cricket\", 3: \"table tennis\", 4: \"volleyball\"}\n",
    "print(my_fitness_dict)\n",
    "\n",
    "# search for a key in the dictionary\n",
    "print(1 in my_fitness_dict)\n",
    "# get the items in a dictionary\n",
    "print(my_fitness_dict.items())\n",
    "# get the keys in a dictionary\n",
    "print(my_fitness_dict.keys())\n",
    "\n",
    "# get the values in a dictionary\n",
    "print(my_fitness_dict.values())\n",
    "\n",
    "# get the length of a dictionary\n",
    "print(len(my_fitness_dict))\n",
    "\n",
    "# add to a dictionary using the square notation\n",
    "my_fitness_dict[5] = \"hockey\"\n",
    "print(my_fitness_dict)\n",
    "\n",
    "# updating a dictionary with another dictionary\n",
    "new_fitness_dict = {6: \"basketball\", 7: \"baseball\"}\n",
    "my_fitness_dict.update(new_fitness_dict)\n",
    "print(my_fitness_dict)\n",
    "\n",
    "# complex dictionary"
   ]
  },
  {
   "cell_type": "markdown",
   "metadata": {},
   "source": [
    "**Common Dictionary Errors**"
   ]
  },
  {
   "cell_type": "code",
   "execution_count": null,
   "metadata": {
    "scrolled": true
   },
   "outputs": [],
   "source": [
    "# trying to access an item by index\n",
    "students = {\"Jane\": \"History\", \"Ada\": \"Biology\", \"William\":\"Political Science\"}\n",
    "print(students[3])"
   ]
  },
  {
   "cell_type": "code",
   "execution_count": null,
   "metadata": {},
   "outputs": [],
   "source": [
    "# Using a mutable data type as a key\n",
    "new_students = {\"Emma\": \"Chemistry\", [\"Ava\", \"Logan\"]: \"Physics\"}\n",
    "print(new_students)"
   ]
  },
  {
   "cell_type": "markdown",
   "metadata": {},
   "source": [
    "**TODO:**\n",
    "1. Print out the built in functions for dictionaries."
   ]
  },
  {
   "cell_type": "markdown",
   "metadata": {},
   "source": [
    "<a id='further-reading'></a>\n",
    "#### For Further Reading:"
   ]
  },
  {
   "cell_type": "markdown",
   "metadata": {},
   "source": [
    "- [Python Official Documentation](https://docs.python.org/3/)\n",
    "- [Jupyter Tips & Tricks 1](https://medium.com/ibm-data-science-experience/markdown-for-jupyter-notebooks-cheatsheet-386c05aeebed)\n",
    "- [Jupyter Tips & Tricks 2](https://www.dataquest.io/blog/jupyter-notebook-tips-tricks-shortcuts/)\n",
    "- [Python Wiki](https://wiki.python.org/moin/FrontPage)"
   ]
  },
  {
   "cell_type": "code",
   "execution_count": null,
   "metadata": {},
   "outputs": [],
   "source": []
  }
 ],
 "metadata": {
  "kernelspec": {
   "display_name": "Python 3",
   "language": "python",
   "name": "python3"
  },
  "language_info": {
   "codemirror_mode": {
    "name": "ipython",
    "version": 3
   },
   "file_extension": ".py",
   "mimetype": "text/x-python",
   "name": "python",
   "nbconvert_exporter": "python",
   "pygments_lexer": "ipython3",
   "version": "3.6.8"
  }
 },
 "nbformat": 4,
 "nbformat_minor": 2
}
