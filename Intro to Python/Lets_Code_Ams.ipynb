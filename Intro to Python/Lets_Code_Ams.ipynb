{
  "nbformat": 4,
  "nbformat_minor": 0,
  "metadata": {
    "colab": {
      "name": "Lets-Code-Ams.ipynb",
      "version": "0.3.2",
      "provenance": [],
      "collapsed_sections": [
        "VLGQOXoJJkK5",
        "viNZNwHaJkK8",
        "27UJaI72JkLT",
        "D3c9gQ0sJkNB",
        "ojDpNbmAJkNc",
        "hGwG7xokJkNj",
        "Hq4C1suGslvp",
        "71ECHDWO2z57",
        "i0z7JjOihYff",
        "mzCGo1vPxuAD",
        "nKbEFoQiYH7B"
      ]
    },
    "language_info": {
      "codemirror_mode": {
        "name": "ipython",
        "version": 3
      },
      "file_extension": ".py",
      "mimetype": "text/x-python",
      "name": "python",
      "nbconvert_exporter": "python",
      "pygments_lexer": "ipython3",
      "version": "3.6.8"
    },
    "kernelspec": {
      "name": "python3",
      "display_name": "Python 3"
    },
    "accelerator": "GPU"
  },
  "cells": [
    {
      "cell_type": "markdown",
      "metadata": {
        "id": "0xys3CQ_JkK4",
        "colab_type": "text"
      },
      "source": [
        "**Table of Contents**\n",
        "1. [Introduction to Python](#introduction-to-Python)\n",
        "2. [First Steps](#first-steps)\n",
        "3. [Python Variables and Data types](#python-variables-and-data-types)\n",
        "4. [Python Operations](#python-operations)\n",
        "5. [Strings and their Methods](#strings-and-their-methods)\n",
        "6. [Collections](#collections)\n",
        "7. [Conditions](#conditions)\n",
        "8. [Functions](#functions)\n",
        "9. [Let's Code Together](#lets-code-together)\n",
        "10. [Further Reading](#further-reading)\n"
      ]
    },
    {
      "cell_type": "markdown",
      "metadata": {
        "id": "VLGQOXoJJkK5",
        "colab_type": "text"
      },
      "source": [
        "<a id='introduction-to-Python'></a>\n",
        "## Introduction To Python"
      ]
    },
    {
      "cell_type": "markdown",
      "metadata": {
        "id": "mBI7mBUBJkK7",
        "colab_type": "text"
      },
      "source": [
        "**Python** is a programming language created by Guido Van Rossum in the late 1980s and is currently the [fastest-growing](https://insights.stackoverflow.com/survey/2019) major programming language.\n",
        "\n",
        "**Python** is Open Source and has a wide variety of applications such as:\n",
        "1. Artificial Intelligence / Machine Learning\n",
        "    - SciPi\n",
        "    - NumPy\n",
        "    - Pandas\n",
        "    - PyTorch\n",
        "2. Hardware and Micro-controllers\n",
        "    - Raspberry Pi\n",
        "    - MicroPython\n",
        "    - CircuitPython\n",
        "3. Web Development\n",
        "    - Django\n",
        "    - Flask\n",
        "4. Scripting\n",
        "    - Dev Ops Configuration scripts\n",
        "5. Mathematics"
      ]
    },
    {
      "cell_type": "markdown",
      "metadata": {
        "id": "viNZNwHaJkK8",
        "colab_type": "text"
      },
      "source": [
        "<a id='first-steps'></a>\n",
        "## First Steps"
      ]
    },
    {
      "cell_type": "markdown",
      "metadata": {
        "id": "iYpBMnXnJkK9",
        "colab_type": "text"
      },
      "source": [
        "**Printing**\n",
        "\n",
        "To print a python script we use the print command: print( )"
      ]
    },
    {
      "cell_type": "code",
      "metadata": {
        "scrolled": true,
        "id": "wTk8EjngJkK-",
        "colab_type": "code",
        "colab": {}
      },
      "source": [
        "print(\"Hello World. I am an awesome python programmer!\")"
      ],
      "execution_count": 0,
      "outputs": []
    },
    {
      "cell_type": "code",
      "metadata": {
        "id": "pVcbJltWJkLE",
        "colab_type": "code",
        "colab": {}
      },
      "source": [
        "print(1234567890)"
      ],
      "execution_count": 0,
      "outputs": []
    },
    {
      "cell_type": "markdown",
      "metadata": {
        "id": "exqiW6V0JkLI",
        "colab_type": "text"
      },
      "source": [
        "**Comments** are complete sentences that are for you or anyone reading your code. Python's interpreter won't process your comments."
      ]
    },
    {
      "cell_type": "code",
      "metadata": {
        "id": "wyu_ShzmJkLJ",
        "colab_type": "code",
        "colab": {}
      },
      "source": [
        "# I am a block comment"
      ],
      "execution_count": 0,
      "outputs": []
    },
    {
      "cell_type": "code",
      "metadata": {
        "scrolled": true,
        "id": "QNLOLaXQJkLN",
        "colab_type": "code",
        "colab": {}
      },
      "source": [
        "\"\"\"\n",
        "I am a docstring. I \n",
        "can be oneline or multiline.\n",
        "Unless I am used as a docstring, I am basically ignored!\n",
        "Check me out!\n",
        "\"\"\"\n",
        "print(10)"
      ],
      "execution_count": 0,
      "outputs": []
    },
    {
      "cell_type": "markdown",
      "metadata": {
        "id": "4F7-oL-cJkLQ",
        "colab_type": "text"
      },
      "source": [
        "Note:\n",
        "[PEP8](https://www.python.org/dev/peps/pep-0008/#block-comments), Python's official style guide, favours using block comments."
      ]
    },
    {
      "cell_type": "code",
      "metadata": {
        "id": "AqI4rfw7xQAI",
        "colab_type": "code",
        "colab": {}
      },
      "source": [
        "#######################################################\n",
        "################### Challenge 1 #######################\n",
        "#######################################################\n",
        "\n",
        "# Print the name of your city"
      ],
      "execution_count": 0,
      "outputs": []
    },
    {
      "cell_type": "markdown",
      "metadata": {
        "id": "27UJaI72JkLT",
        "colab_type": "text"
      },
      "source": [
        "<a id='python-variables-and-data-**types**'></a>\n",
        "## Python Variables and Data types"
      ]
    },
    {
      "cell_type": "markdown",
      "metadata": {
        "id": "sHWWSt8UJkLU",
        "colab_type": "text"
      },
      "source": [
        "### Variables"
      ]
    },
    {
      "cell_type": "markdown",
      "metadata": {
        "id": "84OYS1kQJkLV",
        "colab_type": "text"
      },
      "source": [
        "Python Variables allow us to store information and give it a label that we can use to retrieve that information later. Unlike other programming languages, Python has no command for declaring a variable."
      ]
    },
    {
      "cell_type": "code",
      "metadata": {
        "scrolled": true,
        "id": "JjpmYugSJkLW",
        "colab_type": "code",
        "colab": {}
      },
      "source": [
        "x = 7\n",
        "y = \"Netherlands\"\n",
        "print(x)\n",
        "print(y)"
      ],
      "execution_count": 0,
      "outputs": []
    },
    {
      "cell_type": "markdown",
      "metadata": {
        "id": "BfPenK-dJkLb",
        "colab_type": "text"
      },
      "source": [
        "Python variables are generally in lower case (Snake case) and separated by underscores."
      ]
    },
    {
      "cell_type": "code",
      "metadata": {
        "scrolled": true,
        "id": "ufcb5bkDJkLc",
        "colab_type": "code",
        "colab": {}
      },
      "source": [
        "my_first_name = \"Chidinma\"\n",
        "print(my_first_name)"
      ],
      "execution_count": 0,
      "outputs": []
    },
    {
      "cell_type": "markdown",
      "metadata": {
        "id": "7agypCChJkLk",
        "colab_type": "text"
      },
      "source": [
        "### Data Types"
      ]
    },
    {
      "cell_type": "markdown",
      "metadata": {
        "id": "zkB4ZnKDJkLm",
        "colab_type": "text"
      },
      "source": [
        "#### Numbers"
      ]
    },
    {
      "cell_type": "markdown",
      "metadata": {
        "id": "9sbzOqP2JkLo",
        "colab_type": "text"
      },
      "source": [
        "There are three different types of numbers in Python: **int** for Integer, **Float**, and **Complex**."
      ]
    },
    {
      "cell_type": "code",
      "metadata": {
        "id": "0kccXz-6JkLp",
        "colab_type": "code",
        "colab": {}
      },
      "source": [
        "# These are integers\n",
        "x = 10\n",
        "y = -19\n",
        "z = 0"
      ],
      "execution_count": 0,
      "outputs": []
    },
    {
      "cell_type": "code",
      "metadata": {
        "id": "b_0TBWC9JkLt",
        "colab_type": "code",
        "colab": {}
      },
      "source": [
        "# These are floats\n",
        "x = 3.141592653589793238462643383279502884197169\n",
        "y = -10.223\n",
        "z = 0.1\n",
        "\n",
        "# anything with a \".\""
      ],
      "execution_count": 0,
      "outputs": []
    },
    {
      "cell_type": "code",
      "metadata": {
        "id": "KTwh4uh2JkLy",
        "colab_type": "code",
        "colab": {}
      },
      "source": [
        "# This is a complex number\n",
        "x = 42j\n",
        "\n",
        "# a + j*b \n",
        "# in Python we use j instead of i"
      ],
      "execution_count": 0,
      "outputs": []
    },
    {
      "cell_type": "markdown",
      "metadata": {
        "id": "D7zruVlPJkL3",
        "colab_type": "text"
      },
      "source": [
        "#### Boolean"
      ]
    },
    {
      "cell_type": "markdown",
      "metadata": {
        "id": "SY2hVN_yJkL3",
        "colab_type": "text"
      },
      "source": [
        "In Python, Booleans are of type bool. Booleans are True and False"
      ]
    },
    {
      "cell_type": "code",
      "metadata": {
        "scrolled": true,
        "id": "nFcoSwZBJkL4",
        "colab_type": "code",
        "colab": {}
      },
      "source": [
        "x = True\n",
        "print(x)"
      ],
      "execution_count": 0,
      "outputs": []
    },
    {
      "cell_type": "code",
      "metadata": {
        "id": "7_L2O5kQJkL9",
        "colab_type": "code",
        "colab": {}
      },
      "source": [
        "y = False\n",
        "print(y)"
      ],
      "execution_count": 0,
      "outputs": []
    },
    {
      "cell_type": "markdown",
      "metadata": {
        "id": "9efSgZ8uJkMA",
        "colab_type": "text"
      },
      "source": [
        "Surprisingly, the boolean types True and False are also numbers under the hood. So we can actually do things like add or subtract. We'll see this later in this lesson.\n",
        "\n",
        "* True is 1 under the hood.\n",
        "* False is 0 under the hood."
      ]
    },
    {
      "cell_type": "markdown",
      "metadata": {
        "id": "eWItCyZqJkMC",
        "colab_type": "text"
      },
      "source": [
        "#### Strings"
      ]
    },
    {
      "cell_type": "markdown",
      "metadata": {
        "id": "SI7cBTCyJkME",
        "colab_type": "text"
      },
      "source": [
        "Strings in python are surrounded by either single quotation marks, or double quotation marks."
      ]
    },
    {
      "cell_type": "code",
      "metadata": {
        "scrolled": false,
        "id": "pCbdByAvJkMG",
        "colab_type": "code",
        "colab": {}
      },
      "source": [
        "x = 'hello'\n",
        "y = \"hello\"\n",
        "print(x)\n",
        "print(y)"
      ],
      "execution_count": 0,
      "outputs": []
    },
    {
      "cell_type": "markdown",
      "metadata": {
        "id": "pkEeDByMJkML",
        "colab_type": "text"
      },
      "source": [
        "**Concatenating Strings**\n",
        "\n",
        "Strings can be concatenated using **'+'**"
      ]
    },
    {
      "cell_type": "code",
      "metadata": {
        "id": "b7JfWMerJkMO",
        "colab_type": "code",
        "colab": {}
      },
      "source": [
        "salutation = \"Hello\"\n",
        "first_name = \"Max\"\n",
        "last_name = \"James\"\n",
        "greeting = salutation + first_name + last_name\n",
        "print(greeting)\n",
        "\n"
      ],
      "execution_count": 0,
      "outputs": []
    },
    {
      "cell_type": "code",
      "metadata": {
        "id": "AzA-IrtBJkMU",
        "colab_type": "code",
        "colab": {}
      },
      "source": [
        "greeting = salutation + \", \" + first_name + \" \" + last_name + \"! \" + \"It's nice to finally meet you.\"\n",
        "print(greeting)"
      ],
      "execution_count": 0,
      "outputs": []
    },
    {
      "cell_type": "markdown",
      "metadata": {
        "id": "tDeykMVuJkMb",
        "colab_type": "text"
      },
      "source": [
        "To use the same type of quote within a string, that quote needs to be escaped with a \\ - backwards slash."
      ]
    },
    {
      "cell_type": "code",
      "metadata": {
        "id": "hSq42cgpJkMd",
        "colab_type": "code",
        "colab": {}
      },
      "source": [
        "reminder = 'It\\'s my mom\\'s birthday tomorrow'\n",
        "print(reminder)"
      ],
      "execution_count": 0,
      "outputs": []
    },
    {
      "cell_type": "markdown",
      "metadata": {
        "id": "G_Zk3BAhJkMg",
        "colab_type": "text"
      },
      "source": [
        "Mixed quotes can be used instead in a Python string without escaping."
      ]
    },
    {
      "cell_type": "code",
      "metadata": {
        "scrolled": true,
        "id": "BS4TvHDTJkMh",
        "colab_type": "code",
        "colab": {}
      },
      "source": [
        "reminder = \"It's my mom's birthday tomorrow\"\n",
        "print(reminder)"
      ],
      "execution_count": 0,
      "outputs": []
    },
    {
      "cell_type": "markdown",
      "metadata": {
        "id": "dZCoCjUOJkMl",
        "colab_type": "text"
      },
      "source": [
        "**Common String Errors**"
      ]
    },
    {
      "cell_type": "code",
      "metadata": {
        "scrolled": true,
        "id": "7PoMgK2hJkMm",
        "colab_type": "code",
        "colab": {}
      },
      "source": [
        "#######################################################\n",
        "################### Challenge 2 #######################\n",
        "#######################################################\n",
        "\n",
        "# Come up with possible solutions for the error below\n",
        "# Trying to concatenate a string with a number\n",
        "error1 = \"family\" + 3\n",
        "print(error1)\n",
        "\n",
        "x = 3\n",
        "error2 = \"family\" + x\n",
        "print(error2)\n"
      ],
      "execution_count": 0,
      "outputs": []
    },
    {
      "cell_type": "code",
      "metadata": {
        "id": "73vcQRIdxsRd",
        "colab_type": "code",
        "colab": {}
      },
      "source": [
        "#######################################################\n",
        "################### Challenge 3 #######################\n",
        "#######################################################\n",
        "\n",
        "# Come up with possible solutions for the error below\n",
        "# Trying to print a string with mismatching string quotes\n",
        "error2 = \"I love my family'\n",
        "print(error2)"
      ],
      "execution_count": 0,
      "outputs": []
    },
    {
      "cell_type": "markdown",
      "metadata": {
        "id": "x9wNnIlwJkMu",
        "colab_type": "text"
      },
      "source": [
        "**String Formatting**"
      ]
    },
    {
      "cell_type": "markdown",
      "metadata": {
        "id": "gEadrR9FJkMy",
        "colab_type": "text"
      },
      "source": [
        "<details>\n",
        "<summary><b>Pro Tip</b> (Click to Expand)</summary>\n",
        "You can find out the data type by using Python's built in function, type(). __type()__ tells you what an object’s type is, for example a string (str) or integer (int).\n",
        "</details>"
      ]
    },
    {
      "cell_type": "code",
      "metadata": {
        "id": "rSqe5JINOKws",
        "colab_type": "code",
        "colab": {}
      },
      "source": [
        "pi = 3.14"
      ],
      "execution_count": 0,
      "outputs": []
    },
    {
      "cell_type": "code",
      "metadata": {
        "id": "OWyUOemjJkMz",
        "colab_type": "code",
        "colab": {}
      },
      "source": [
        "p = \"Python\"\n",
        "q = 22\n",
        "print(\"p: \", type(p))\n",
        "print(\"q: \", type(q))\n"
      ],
      "execution_count": 0,
      "outputs": []
    },
    {
      "cell_type": "markdown",
      "metadata": {
        "id": "MJbHBf3RJkM2",
        "colab_type": "text"
      },
      "source": [
        "#### Casting"
      ]
    },
    {
      "cell_type": "code",
      "metadata": {
        "id": "GLxG-WzgJkM4",
        "colab_type": "code",
        "colab": {}
      },
      "source": [
        "x = str(9)\n",
        "print(x)\n"
      ],
      "execution_count": 0,
      "outputs": []
    },
    {
      "cell_type": "code",
      "metadata": {
        "id": "Q6MciQgyO_8k",
        "colab_type": "code",
        "colab": {}
      },
      "source": [
        "x = '5'\n",
        "y = int(x)\n",
        "print(y)\n",
        "print(type(y))"
      ],
      "execution_count": 0,
      "outputs": []
    },
    {
      "cell_type": "markdown",
      "metadata": {
        "id": "pexGoy4pJkM8",
        "colab_type": "text"
      },
      "source": [
        "**Note:**\n",
        "1. Python Variables can't start with a number.\n",
        "Python Variables must start with a letter or the underscore character.\n",
        "2. Variable names can't contain special characters such as '!', '@', '#', '$', '%'.\n",
        "3. Your Python variables shouldn't be named 'and', 'if', 'while', 'True', 'False' because Python uses these names for program control structure. \n",
        "4. Don't give your variables the same name as our data types. For example: Don't name your variable int, dict, list, str, etc.\n",
        "Variable names are case sensitive. For example: King, king and KING are different variable names. Please beware."
      ]
    },
    {
      "cell_type": "markdown",
      "metadata": {
        "id": "D3c9gQ0sJkNB",
        "colab_type": "text"
      },
      "source": [
        "<a id='python-operations'></a>\n",
        "## Python Operations"
      ]
    },
    {
      "cell_type": "markdown",
      "metadata": {
        "id": "X0QfDR2IJkNC",
        "colab_type": "text"
      },
      "source": [
        "**Arithmetic Operators**\n",
        "1. Addition +\n",
        "2. Subtraction -\n",
        "3. Multiplication *\n",
        "4. Division /\n",
        "5. Floor division //\n",
        "6. Modulus (remainder) %\n",
        "7. Exponentiation **\n",
        "8. Matrix multiplication @"
      ]
    },
    {
      "cell_type": "code",
      "metadata": {
        "scrolled": true,
        "id": "R6MRAYugJkND",
        "colab_type": "code",
        "colab": {}
      },
      "source": [
        "s = 3 + 5\n",
        "q = 5 - 3\n",
        "w = 3 * 4\n",
        "e = 13 / 2\n",
        "f = 20 // 3\n",
        "t = 21 % 3 # modulo used to check if a number is odd(not dividing to 2) or even\n",
        "y = 2 ** 3\n",
        "\n",
        "print(s)\n",
        "print(q)\n",
        "print(w)\n",
        "print(e)\n",
        "print(f)\n",
        "print(t)\n",
        "print(y)"
      ],
      "execution_count": 0,
      "outputs": []
    },
    {
      "cell_type": "code",
      "metadata": {
        "id": "bGX0e8WOTf8Q",
        "colab_type": "code",
        "colab": {}
      },
      "source": [
        "round(20/3)"
      ],
      "execution_count": 0,
      "outputs": []
    },
    {
      "cell_type": "code",
      "metadata": {
        "id": "84ZpYXkeJkNH",
        "colab_type": "code",
        "colab": {}
      },
      "source": [
        "#######################################################\n",
        "################### Challenge 4 #######################\n",
        "#######################################################\n",
        "\n",
        "# Rewrite the code so that it accepts user input height and weight and uses that to calculate the BMI.\n",
        "height = 1.74\n",
        "weight = 80\n",
        "\n",
        "bmi = float(weight) / (height) ** 2\n",
        "\n",
        "print(\"BMI is: \" + str(bmi))"
      ],
      "execution_count": 0,
      "outputs": []
    },
    {
      "cell_type": "markdown",
      "metadata": {
        "id": "-B-eZ-hkJkNK",
        "colab_type": "text"
      },
      "source": [
        "**In-Place Operations**"
      ]
    },
    {
      "cell_type": "code",
      "metadata": {
        "id": "zXaqkDEqJkNL",
        "colab_type": "code",
        "colab": {}
      },
      "source": [
        "# *=\n",
        "x = 10\n",
        "x *= 2 # this is the same with x = x * 2\n",
        "print(x) # x = 20\n",
        "\n",
        "# +=\n",
        "x += 4 # this is the same with : x = x + 4\n",
        "print(x) # x = 24\n",
        "\n",
        "# -=\n",
        "x -= 1 # this is the same with : x = x -1\n",
        "print(x) # x = 23\n",
        "\n",
        "# /=\n",
        "x /= 5 # this is the same with : x = x / 5\n",
        "print(x) # x = 4.6"
      ],
      "execution_count": 0,
      "outputs": []
    },
    {
      "cell_type": "markdown",
      "metadata": {
        "id": "jxzf5KyBJkNR",
        "colab_type": "text"
      },
      "source": [
        "**Comparison Operators**\n",
        "1. Equal ==\n",
        "2. Not equal !=\n",
        "3. Greater than >\n",
        "4. Less than <\n",
        "5. Greater than or equal to >=\n",
        "6. Less than or equal to <="
      ]
    },
    {
      "cell_type": "code",
      "metadata": {
        "id": "BYN-o346JkNS",
        "colab_type": "code",
        "colab": {}
      },
      "source": [
        "# a > b\n",
        "# a < b\n",
        "# a >= b\n",
        "# a <= b\n",
        "\n",
        "a = 10\n",
        "b = 4.5\n",
        "\n",
        "print(type(a) == type(b))\n",
        "print(type(a))\n",
        "print(type(b))\n",
        "print(type(a) == int)"
      ],
      "execution_count": 0,
      "outputs": []
    },
    {
      "cell_type": "markdown",
      "metadata": {
        "id": "Ihmw-Ss0JkNW",
        "colab_type": "text"
      },
      "source": [
        "**Logical Operators**\n",
        "1. and\n",
        "2. or\n",
        "3. not"
      ]
    },
    {
      "cell_type": "code",
      "metadata": {
        "id": "oc18t9C3JkNX",
        "colab_type": "code",
        "colab": {}
      },
      "source": [
        "a = 5\n",
        "b = 6\n",
        "print((a == 5) and (b == 6))\n",
        "print(4 <= a <= 6)\n",
        "\n",
        "x = True\n",
        "print(not(x))"
      ],
      "execution_count": 0,
      "outputs": []
    },
    {
      "cell_type": "markdown",
      "metadata": {
        "id": "P5YiOg1mJkNb",
        "colab_type": "text"
      },
      "source": [
        "Python has other operators such as the **Bitwise**, **Membership** and **Identity** Operators."
      ]
    },
    {
      "cell_type": "markdown",
      "metadata": {
        "id": "QSQXKzvGJkNc",
        "colab_type": "text"
      },
      "source": [
        "**TODO:**\n",
        "1. Calculate your daily expenses, by taking your monthly expenses and diving it by 30. Given that your monthly expenses is €800.\n",
        "2. What is the value of a in \"a = -1 ** 2\"?\n",
        "3. What is the value of b in \"b = 99 >= 3**4 and 70 == 7 * 10 or 12 != 3 * 4\"?\n",
        "4. Accept a number from a user, print whether it is divisible by ten and greater than hundred."
      ]
    },
    {
      "cell_type": "code",
      "metadata": {
        "id": "pPDyc8AOySEu",
        "colab_type": "code",
        "colab": {}
      },
      "source": [
        "#######################################################\n",
        "################### Challenge 5 #######################\n",
        "#######################################################\n",
        "\n",
        "# 1.Calculate your daily expenses, by taking your monthly expenses and diving it by 30. Given that your monthly expenses is €800.\n",
        "# 2. What is the value of a in \"a = -1 ** 2\"?\n",
        "# 3. What is the value of b in \"b = 99 >= 3*4 and 70 == 7 * 10 or 12 != 3 * 4\"?\n",
        "# 4. Accept a number from a user, print whether it is divisible by ten and greater than hundred."
      ],
      "execution_count": 0,
      "outputs": []
    },
    {
      "cell_type": "markdown",
      "metadata": {
        "id": "ojDpNbmAJkNc",
        "colab_type": "text"
      },
      "source": [
        "<a id='strings-and-their-methods'></a>\n",
        "## Strings & their Methods"
      ]
    },
    {
      "cell_type": "markdown",
      "metadata": {
        "id": "MDDmxw58JkNd",
        "colab_type": "text"
      },
      "source": [
        "A method is a function that is specific to a certain \"object\" in Python. Python has a set of built-in methods that you can use on strings."
      ]
    },
    {
      "cell_type": "code",
      "metadata": {
        "id": "pdgCDgrAJkNe",
        "colab_type": "code",
        "colab": {}
      },
      "source": [
        "var = \"let's code amsterdam\"\n",
        "upper_var = var.upper() \n",
        "lower_var = var.lower()\n",
        "capital_var = var.capitalize()\n",
        "title_var = var.title()\n",
        "swapcase_var = var.swapcase()\n",
        "replace_var = var.replace('l', 'r')"
      ],
      "execution_count": 0,
      "outputs": []
    },
    {
      "cell_type": "markdown",
      "metadata": {
        "id": "Lz3eO_pv04nO",
        "colab_type": "text"
      },
      "source": [
        "Length of a words/ sentence or a paragraph can be calculated by simply calling the built-in function len() -> which in fact gives the number of characters."
      ]
    },
    {
      "cell_type": "code",
      "metadata": {
        "id": "2lsT4KmG1JUI",
        "colab_type": "code",
        "colab": {}
      },
      "source": [
        "# len(str) is the number of chars in a String\n",
        "# len('I am excited to code in Python. This is awesome!')\n",
        "\n",
        "# len('this          has             a            lot         of           spaces')\n",
        "\n",
        "# len('this                                                                      ')\n",
        "len('a           ')"
      ],
      "execution_count": 0,
      "outputs": []
    },
    {
      "cell_type": "code",
      "metadata": {
        "id": "PxNM8CHv1msi",
        "colab_type": "code",
        "colab": {}
      },
      "source": [
        "# str[i:j] extracts the substring starting at index i and running up to but not including index j.\n",
        "\n",
        "var = 'I am amazing'\n",
        "\n",
        "x = 'cuphjgusdhgusdicjdsolncjlsfnvsgfyvsjkxnck;amdolfndhnpdbcvnjbhb'\n",
        "x[-4]"
      ],
      "execution_count": 0,
      "outputs": []
    },
    {
      "cell_type": "markdown",
      "metadata": {
        "id": "AMGxeb-OJkNh",
        "colab_type": "text"
      },
      "source": [
        "Read More: [String Methods](https://docs.python.org/3/library/stdtypes.html#string-methods)"
      ]
    },
    {
      "cell_type": "markdown",
      "metadata": {
        "id": "ADxAjKsNJkNi",
        "colab_type": "text"
      },
      "source": [
        "**TODO:**\n",
        "1. Take a user input, convert the first character of each word to upper case, split the string every whitespace and join all the strings with a plus character (+)"
      ]
    },
    {
      "cell_type": "code",
      "metadata": {
        "id": "cLbLsLk9yjv0",
        "colab_type": "code",
        "colab": {}
      },
      "source": [
        "#######################################################\n",
        "################### Challenge 6 #######################\n",
        "#######################################################\n",
        "\n",
        "# Take a user input, convert the first character of each word to upper case,\n",
        "# split the string every whitespace and join all the strings with a plus character (+)\n"
      ],
      "execution_count": 0,
      "outputs": []
    },
    {
      "cell_type": "markdown",
      "metadata": {
        "id": "hGwG7xokJkNj",
        "colab_type": "text"
      },
      "source": [
        "<a id='collections'></a>\n",
        "## Lists, Tuples, Sets, & Dictionaries"
      ]
    },
    {
      "cell_type": "markdown",
      "metadata": {
        "id": "LMVG7a69JkNk",
        "colab_type": "text"
      },
      "source": [
        "#### Lists"
      ]
    },
    {
      "cell_type": "markdown",
      "metadata": {
        "id": "ktoVJErGJkNk",
        "colab_type": "text"
      },
      "source": [
        "Lists are one of the most powerful data types in Python. Lists are used for storing similar items, and in cases where items need to be added or removed.\n",
        "An empty list can be created in 2 ways:\n",
        "1. By calling the list method list()\n",
        "2. By writing 2 empty brackets []"
      ]
    },
    {
      "cell_type": "code",
      "metadata": {
        "id": "drRwJS9IJkNm",
        "colab_type": "code",
        "colab": {}
      },
      "source": [
        "list_1 = [1,2,3]\n",
        "list_2 = list(list_1)\n",
        "print(list_2)"
      ],
      "execution_count": 0,
      "outputs": []
    },
    {
      "cell_type": "code",
      "metadata": {
        "id": "NfNjX0vhJkNr",
        "colab_type": "code",
        "colab": {}
      },
      "source": [
        "# Searching a list\n",
        "my_hobby_list = [\"cooking\", \"travelling\", \"teaching\"]\n",
        "print(\"cooking\" in my_hobby_list)\n",
        "\n",
        "# appending to list (add to the end)\n",
        "my_hobby_list.append(\"dancing\")\n",
        "print(my_hobby_list) \n",
        "\n",
        "# inserting an item to a particular position in a list .insert(position, item)\n",
        "my_hobby_list.insert(2, \"sleeping\")\n",
        "print(my_hobby_list) \n",
        "\n",
        "# accessing items by index\n",
        "print(my_hobby_list[0])\n",
        "\n",
        "# lists are mutable\n",
        "my_hobby_list[0] = \"eating\"\n",
        "print(my_hobby_list)\n",
        "\n",
        "# sorting a list\n",
        "my_hobby_list.sort() # from A to Z\n",
        "print(my_hobby_list)\n",
        "\n",
        "# reversing a list\n",
        "my_hobby_list.reverse() # from Z to A\n",
        "print(my_hobby_list)\n",
        "\n",
        "# arranging a list in descending order\n",
        "my_hobby_list.sort(reverse = True)\n",
        "print(my_hobby_list)\n",
        "\n",
        "# add items from another list (extend)\n",
        "my_new_hobbies = [\"Knitting\", \"Singing\"]\n",
        "my_hobby_list.extend(my_new_hobbies)\n",
        "print(my_hobby_list)\n",
        "\n",
        "# remove an item\n",
        "my_hobby_list.remove(\"eating\")\n",
        "print(my_hobby_list)\n",
        "\n",
        "# remove an item from the last position\n",
        "my_hobby_list.pop()\n",
        "print(my_hobby_list)\n",
        "\n",
        "# remove an item from a particular index\n",
        "my_hobby_list.pop(2)\n",
        "print(my_hobby_list)"
      ],
      "execution_count": 0,
      "outputs": []
    },
    {
      "cell_type": "markdown",
      "metadata": {
        "id": "akcx5kPQJkNu",
        "colab_type": "text"
      },
      "source": [
        "**Common List Errors**"
      ]
    },
    {
      "cell_type": "code",
      "metadata": {
        "id": "jnGD0DRYJkN3",
        "colab_type": "code",
        "colab": {}
      },
      "source": [
        "first_names = [\"Jane\", \"Alex\" \"Sandra\"]\n",
        "print(first_names)"
      ],
      "execution_count": 0,
      "outputs": []
    },
    {
      "cell_type": "markdown",
      "metadata": {
        "id": "NDjiGjpEJkN8",
        "colab_type": "text"
      },
      "source": [
        "<details>\n",
        "<summary><b>Pro Tip</b> (Click to Expand)</summary>\n",
        "To find out the built in methods for strings, lists, tuples, sets and dictionaries by typing dir(). dir() returns a list of valid attributes for an object, so you can quickly see what variables an object has or what functions you can call on it. Ignore the methods that start with underscores. \n",
        "    \n",
        "help() brings up helpful documentation on any object. You can also type help() on its own to bring an interactive help console.\n",
        "</details>"
      ]
    },
    {
      "cell_type": "code",
      "metadata": {
        "id": "M87PqReQyw0T",
        "colab_type": "code",
        "colab": {}
      },
      "source": [
        "#######################################################\n",
        "################### Challenge 7 #######################\n",
        "#######################################################\n",
        "\n",
        "# Print out the built in functions for lists.\n"
      ],
      "execution_count": 0,
      "outputs": []
    },
    {
      "cell_type": "markdown",
      "metadata": {
        "id": "vO9NvpALJkN9",
        "colab_type": "text"
      },
      "source": [
        "#### Tuples"
      ]
    },
    {
      "cell_type": "markdown",
      "metadata": {
        "id": "2Xn7bdSPJkN-",
        "colab_type": "text"
      },
      "source": [
        "**Tuple** is a list that is immutable. It is used for storing a snapshot of related items when we don’t plan on modifying, adding, or removing data. Tuples can be used in other types of containers like sets and dictionaries\n",
        "Remember that because Tuples are immutable,\n",
        "1. we can’t add or remove from tuples and\n",
        "2. we can't sort tuples"
      ]
    },
    {
      "cell_type": "code",
      "metadata": {
        "id": "qs6j8XQjJkN_",
        "colab_type": "code",
        "colab": {}
      },
      "source": [
        "# Create a new tuple\n",
        "my_tuple = ()\n",
        "my_other_tuple = tuple()\n",
        "\n",
        "student_tuple = (\"Victoria\", 24, \"Computer Science major\", 4.5)\n",
        "# accessing by index\n",
        "print(student_tuple[2])\n",
        "\n",
        "# Tuple Unpacking\n",
        "student_tuple = (\"Victoria\", 24, \"Computer Science major\", 4.5)\n",
        "name, age, dept, grade = student_tuple\n",
        "print(name, age, dept, grade)"
      ],
      "execution_count": 0,
      "outputs": []
    },
    {
      "cell_type": "markdown",
      "metadata": {
        "id": "I8anqSjTfkNr",
        "colab_type": "text"
      },
      "source": [
        "**Common Tuple Errors**"
      ]
    },
    {
      "cell_type": "code",
      "metadata": {
        "id": "mekxyWQYfELB",
        "colab_type": "code",
        "colab": {}
      },
      "source": [
        "# reassigning tuples will result in an error\n",
        "\n",
        "student_tuple[2] = \"Maths major\"\n",
        "print(student_tuple)"
      ],
      "execution_count": 0,
      "outputs": []
    },
    {
      "cell_type": "code",
      "metadata": {
        "id": "CFeXeIFLy6TR",
        "colab_type": "code",
        "colab": {}
      },
      "source": [
        "#######################################################\n",
        "################### Challenge 8 #######################\n",
        "#######################################################\n",
        "\n",
        "# Print out the built in functions for tuples."
      ],
      "execution_count": 0,
      "outputs": []
    },
    {
      "cell_type": "markdown",
      "metadata": {
        "id": "u_9n8hFZJkOG",
        "colab_type": "text"
      },
      "source": [
        "#### Sets"
      ]
    },
    {
      "cell_type": "markdown",
      "metadata": {
        "id": "EvbCO4gNJkOI",
        "colab_type": "text"
      },
      "source": [
        "Sets are a datatype that allows you to store other immutable types in an unordered way. Sets ensure that there are no duplicates and all items are unique."
      ]
    },
    {
      "cell_type": "code",
      "metadata": {
        "scrolled": true,
        "id": "_OdQhzWMJkOJ",
        "colab_type": "code",
        "colab": {}
      },
      "source": [
        "# Create a new set\n",
        "my_set = set()\n",
        "\n",
        "farming_set = {\"tractor\", \"plants\", \"water\", \"sunlight\", \"plants\", \"water\", \"cutlass\"}\n",
        "print(farming_set) #notice that all duplicates are gone\n",
        "\n",
        "# Also notice that sets don't have an order\n",
        "\n",
        "# add to a set\n",
        "farming_set.add(\"harvesters\")\n",
        "print(farming_set)\n",
        "\n",
        "# remove from a set\n",
        "farming_set.discard(\"cutlass\")\n",
        "print(farming_set)\n",
        "\n",
        "# update a set with another set\n",
        "other_farming_set = {\"sprayer\", \"mower\"}\n",
        "farming_set.update(other_farming_set)\n",
        "print(farming_set)"
      ],
      "execution_count": 0,
      "outputs": []
    },
    {
      "cell_type": "markdown",
      "metadata": {
        "id": "-UrxKd5UJkOQ",
        "colab_type": "text"
      },
      "source": [
        "**Common Set Errors**"
      ]
    },
    {
      "cell_type": "code",
      "metadata": {
        "id": "E3bXq74VJkOR",
        "colab_type": "code",
        "colab": {}
      },
      "source": [
        "# 1. Using mutable data types will result in an error\n",
        "friends = {\"max\", \"john\", \"doe\", [\"ana\", \"loes\"]}\n",
        "print(friends)"
      ],
      "execution_count": 0,
      "outputs": []
    },
    {
      "cell_type": "code",
      "metadata": {
        "scrolled": true,
        "id": "BJess55gJkOU",
        "colab_type": "code",
        "colab": {}
      },
      "source": [
        "# Trying to access set items by index will result in an error\n",
        "print(farming_set[2])"
      ],
      "execution_count": 0,
      "outputs": []
    },
    {
      "cell_type": "code",
      "metadata": {
        "id": "08obTTPSJkOY",
        "colab_type": "code",
        "colab": {}
      },
      "source": [
        "# updating a set with a string will give you results you might not be expecting.\n",
        "farming_set.update(\"farm robots\")\n",
        "print(farming_set)"
      ],
      "execution_count": 0,
      "outputs": []
    },
    {
      "cell_type": "markdown",
      "metadata": {
        "id": "2jzKzqOhJkOe",
        "colab_type": "text"
      },
      "source": [
        "#### Dictionaries"
      ]
    },
    {
      "cell_type": "markdown",
      "metadata": {
        "id": "pC0qU3KaJkOf",
        "colab_type": "text"
      },
      "source": [
        "Dictionary is used for storing data in key, value pairs. Keys used must be immutable data types."
      ]
    },
    {
      "cell_type": "code",
      "metadata": {
        "id": "z9PihbhHJkOg",
        "colab_type": "code",
        "colab": {}
      },
      "source": [
        "# Create a new empty dictionary\n",
        "my_dict = {}\n",
        "my_other_dict = dict()\n",
        "\n",
        "\n",
        "my_fitness_dict = {1: \"football\", 2: \"cricket\", 3: \"table tennis\", 4: \"volleyball\"}\n",
        "print(my_fitness_dict)\n",
        "\n",
        "# search for a key in the dictionary\n",
        "print(1 in my_fitness_dict)\n",
        "# get the items in a dictionary\n",
        "print(my_fitness_dict.items())\n",
        "# get the keys in a dictionary\n",
        "print(my_fitness_dict.keys())\n",
        "\n",
        "# get the values in a dictionary\n",
        "print(my_fitness_dict.values())\n",
        "\n",
        "# get the length of a dictionary\n",
        "print(len(my_fitness_dict))\n",
        "\n",
        "# add to a dictionary using the square notation\n",
        "my_fitness_dict[5] = \"hockey\"\n",
        "print(my_fitness_dict)\n",
        "\n",
        "# updating a dictionary with another dictionary\n",
        "new_fitness_dict = {6: \"basketball\", 7: \"baseball\"}\n",
        "my_fitness_dict.update(new_fitness_dict)\n",
        "print(my_fitness_dict)"
      ],
      "execution_count": 0,
      "outputs": []
    },
    {
      "cell_type": "markdown",
      "metadata": {
        "id": "4QNTyg0yJkOk",
        "colab_type": "text"
      },
      "source": [
        "**Common Dictionary Errors**"
      ]
    },
    {
      "cell_type": "code",
      "metadata": {
        "scrolled": true,
        "id": "5hXqmeMBJkOl",
        "colab_type": "code",
        "colab": {}
      },
      "source": [
        "# trying to access an item by index\n",
        "students = {\"Jane\": \"History\", \"Ada\": \"Biology\", \"William\":\"Political Science\"}\n",
        "print(students[3])"
      ],
      "execution_count": 0,
      "outputs": []
    },
    {
      "cell_type": "code",
      "metadata": {
        "id": "GTV_duLbJkOr",
        "colab_type": "code",
        "colab": {}
      },
      "source": [
        "# Using a mutable data type as a key\n",
        "new_students = {\"Emma\": \"Chemistry\", [\"Ava\", \"Logan\"]: \"Physics\"}\n",
        "print(new_students)"
      ],
      "execution_count": 0,
      "outputs": []
    },
    {
      "cell_type": "code",
      "metadata": {
        "id": "-Kf0VjrnzGQ1",
        "colab_type": "code",
        "colab": {}
      },
      "source": [
        "#######################################################\n",
        "################### Challenge 8 #######################\n",
        "#######################################################\n",
        "\n",
        "# Print out the built in functions for dictionaries."
      ],
      "execution_count": 0,
      "outputs": []
    },
    {
      "cell_type": "markdown",
      "metadata": {
        "id": "Hq4C1suGslvp",
        "colab_type": "text"
      },
      "source": [
        "<a id=\"conditions-and-loops\"></a>\n",
        "## Conditions And Loops"
      ]
    },
    {
      "cell_type": "markdown",
      "metadata": {
        "id": "lWlNAEqjKCXh",
        "colab_type": "text"
      },
      "source": [
        "### Conditions"
      ]
    },
    {
      "cell_type": "markdown",
      "metadata": {
        "id": "zL43hgVrtGr-",
        "colab_type": "text"
      },
      "source": [
        "Conditions help us control the logical flow of our program."
      ]
    },
    {
      "cell_type": "markdown",
      "metadata": {
        "id": "vnkf-9Bbtmhk",
        "colab_type": "text"
      },
      "source": [
        "\"If the weather in Amsterdam is nice, I will go to the park. If not, I will see some movies on Netflix\""
      ]
    },
    {
      "cell_type": "code",
      "metadata": {
        "id": "IBheMG1fs_2i",
        "colab_type": "code",
        "colab": {}
      },
      "source": [
        "# Syntax\n",
        "\n",
        "if <expression>:\n",
        "   <statement>\n",
        "else:\n",
        "  <another statement>\n",
        "    \n",
        "    \n",
        "    \n",
        "# Question 1: \n",
        "#   - what is <expr> in our example ?\n",
        "#   - what is <statement> in our example ?"
      ],
      "execution_count": 0,
      "outputs": []
    },
    {
      "cell_type": "markdown",
      "metadata": {
        "id": "aCME2xdruy0_",
        "colab_type": "text"
      },
      "source": [
        "**if-else branch**\n",
        "\n",
        "![alt text](http://www.zentut.com/wp-content/uploads/2007/12/c-if-else-statement.png)\n",
        "\n",
        "\n",
        "\n",
        "\n",
        "\n",
        "\n",
        "**If-else multiple branches**\n",
        "\n",
        "![alt text](https://media.geeksforgeeks.org/wp-content/uploads/decision-making-c-4.png)"
      ]
    },
    {
      "cell_type": "code",
      "metadata": {
        "id": "vd0k3tRZuthb",
        "colab_type": "code",
        "colab": {}
      },
      "source": [
        "# Ana is 31 years old, Kate is 23 years old and David is 24 years old.\n",
        "# Write a program which checks if Ana is the oldest or not the oldest of the group.\n",
        "# Print the corresponding message.\n",
        "\n",
        "ana_age = 31\n",
        "kate_age = 23\n",
        "david_age = 24\n",
        "\n",
        "if (ana_age > david_age) and (ana_age > kate_age):\n",
        "  print(\"Ana is the oldest.\")\n",
        "else:\n",
        "  print(\"Ana is not the oldest.\")"
      ],
      "execution_count": 0,
      "outputs": []
    },
    {
      "cell_type": "markdown",
      "metadata": {
        "id": "y2T-q2ysyE_T",
        "colab_type": "text"
      },
      "source": [
        "### Loops"
      ]
    },
    {
      "cell_type": "markdown",
      "metadata": {
        "id": "vY2VQUCoyKx-",
        "colab_type": "text"
      },
      "source": [
        "Looping in Python is simpler, cleaner process compared to other languages because the Python language prides itself on readability."
      ]
    },
    {
      "cell_type": "code",
      "metadata": {
        "id": "S2sdpN7zyeh6",
        "colab_type": "code",
        "colab": {}
      },
      "source": [
        "# Syntax\n",
        "for single_item in items:\n",
        "  body of the loop"
      ],
      "execution_count": 0,
      "outputs": []
    },
    {
      "cell_type": "markdown",
      "metadata": {
        "id": "y4au6810yKdY",
        "colab_type": "text"
      },
      "source": [
        "\n",
        "*   For loop\n",
        "*   While loop\n",
        "\n",
        "\n",
        "The **while loop** constantly checks if a condition is satisfied, and continues to run as long as the condition remains satisfied. The **for loop** iterates over a list or a sequence."
      ]
    },
    {
      "cell_type": "code",
      "metadata": {
        "id": "UsPPTtX6zC6M",
        "colab_type": "code",
        "colab": {}
      },
      "source": [
        "# for loop\n",
        "seq = [1,2,3,4,5]\n",
        "for i in seq:\n",
        "  print(i)"
      ],
      "execution_count": 0,
      "outputs": []
    },
    {
      "cell_type": "markdown",
      "metadata": {
        "id": "kYijx67vzcQq",
        "colab_type": "text"
      },
      "source": [
        "**While loops** are a special type of loop in Python. Instead of running just once when a condition is met, like an if statement, they run forever until a condition is no longer met."
      ]
    },
    {
      "cell_type": "code",
      "metadata": {
        "id": "Ks0LjSQDziUv",
        "colab_type": "code",
        "colab": {}
      },
      "source": [
        "counter = 0\n",
        "max = 4\n",
        "\n",
        "while counter < max:\n",
        "  print(f\"The count is: {counter}\")\n",
        "  counter = counter + 1"
      ],
      "execution_count": 0,
      "outputs": []
    },
    {
      "cell_type": "markdown",
      "metadata": {
        "id": "StZlkbL7z4vl",
        "colab_type": "text"
      },
      "source": [
        "**Break and Continue** allow you to control the flow of your loops. They’re a concept that beginners to Python tend to misunderstand, so pay careful attention."
      ]
    },
    {
      "cell_type": "markdown",
      "metadata": {
        "id": "Up_OLHMOz8s4",
        "colab_type": "text"
      },
      "source": [
        "#### Break\n",
        "\n",
        "The **break statement** will completely break out of the current loop, meaning it won’t run any more of the statements contained inside of it."
      ]
    },
    {
      "cell_type": "code",
      "metadata": {
        "id": "CmRy18lu0I22",
        "colab_type": "code",
        "colab": {}
      },
      "source": [
        "names = []\n",
        "for name in names:\n",
        "  print(f\"Hello, {name}\")\n",
        "  if name == \"\":\n",
        "    break"
      ],
      "execution_count": 0,
      "outputs": []
    },
    {
      "cell_type": "markdown",
      "metadata": {
        "id": "jeAxxFEY0fwR",
        "colab_type": "text"
      },
      "source": [
        "#### Continue\n",
        "\n",
        "**continue** works a little differently. Instead, it goes back to the start of the loop, skipping over any other statements contained within the loop."
      ]
    },
    {
      "cell_type": "code",
      "metadata": {
        "id": "YO3HbeAX0sP2",
        "colab_type": "code",
        "colab": {}
      },
      "source": [
        "names = []\n",
        "for name in names:\n",
        "  if name != \"\":\n",
        "    continue\n",
        "  print(f\"Hello, {name}\")"
      ],
      "execution_count": 0,
      "outputs": []
    },
    {
      "cell_type": "markdown",
      "metadata": {
        "id": "pDcs0qll1R36",
        "colab_type": "text"
      },
      "source": [
        "![alt text](https://www.learnpython.dev/02-introduction-to-python/110-control-statements-looping/images/break-continue.png?classes=shadow,border)"
      ]
    },
    {
      "cell_type": "code",
      "metadata": {
        "id": "wKLUfDbB10_P",
        "colab_type": "code",
        "colab": {}
      },
      "source": [
        "# print the names with a length of 4. After \"Nina\", break out of the loop\n",
        "names = [\"Jimmy\", \"Rose\", \"Max\", \"Nina\", \"Phillip\"]\n",
        "\n",
        "for name in names:\n",
        "    if len(name) != 4:\n",
        "        continue\n",
        "\n",
        "    print(f\"Hello, {name}\")\n",
        "\n",
        "    if name == \"Nina\":\n",
        "        break\n",
        "\n",
        "print(\"Done!\")"
      ],
      "execution_count": 0,
      "outputs": []
    },
    {
      "cell_type": "markdown",
      "metadata": {
        "id": "NxyEyCmf1u_e",
        "colab_type": "text"
      },
      "source": [
        "Loop Control in While loops"
      ]
    },
    {
      "cell_type": "code",
      "metadata": {
        "id": "XtbFW50-2bYb",
        "colab_type": "code",
        "colab": {}
      },
      "source": [
        "count = 0\n",
        "while True:\n",
        "  count += 1\n",
        "  print(count)\n",
        "  if count == 5:\n",
        "    print(\"Count reached\")\n",
        "    break"
      ],
      "execution_count": 0,
      "outputs": []
    },
    {
      "cell_type": "markdown",
      "metadata": {
        "id": "71ECHDWO2z57",
        "colab_type": "text"
      },
      "source": [
        "<a id=\"functions\"></a>\n",
        "## Functions"
      ]
    },
    {
      "cell_type": "markdown",
      "metadata": {
        "id": "j_3HVFCl27ah",
        "colab_type": "text"
      },
      "source": [
        "**Functions** simply take an input, do something with it, and then return the output. \n",
        "\n",
        "The purpose of functions in Python are to create reusable code. If we find ourselves copying and pasting the same code multiple times, that’s a good sign that a function might help!\n",
        "\n",
        "\n",
        "In Python we have 3 types of functions:\n",
        "*   **Built-in Functions**:  len(), min() and print() functions.\n",
        "*   **User Defined Functions (UDF's) functions**: You can create these yourself.\n",
        "*   **Anonymous or Lambda functions**: These are not declared with the standard def keyword\n",
        "\n",
        "\n",
        "**Watch**: [Function Video](https://www.youtube.com/watch?v=9Os0o3wzS_I)\n",
        "\n",
        "\n",
        "---\n",
        "\n",
        "\n",
        "**Syntax**:\n",
        "\n",
        "def function_name(parameter):\n",
        "   \n",
        "    body_of_code\n",
        "    \n",
        "The def keyword tells Python we’re about to start a function definition\n",
        "The \n",
        "    \n",
        "    \n",
        "**Remember that:**     \n",
        "* a parameter is a placeholder for the actual value.\n",
        "* an argument is the actual value that is passed in\n",
        "\n",
        "[Python Docs](https://docs.python.org/3/faq/programming.html#what-is-the-difference-between-arguments-and-parameters)\n",
        "\n",
        "---\n",
        "\n",
        "\n",
        "\n",
        "**==>** In the diagram below, which is the function name, the parameter and the argument\n",
        "\n",
        "\n",
        "![alt text](https://drive.google.com/uc?id=1hQV_c74lYUT9lSMD2dltLr_uca80gYK8)\n",
        "\n",
        "\n",
        "\n"
      ]
    },
    {
      "cell_type": "code",
      "metadata": {
        "id": "lL1yTX9VBgNr",
        "colab_type": "code",
        "colab": {}
      },
      "source": [
        "# A Basic Function that accepts no arguments\n",
        "def hello_world():\n",
        "    print(\"Hello, World!\")\n",
        "    \n",
        "    \n",
        "# A Function that accepts an argument.\n",
        "def euro_to_pounds(amount):\n",
        "  \n",
        "  euros = amount*0.90\n",
        "  print(f'{amount} euros is {euros} pounds!')\n",
        "  return euros\n",
        "  \n",
        "\n",
        "\n",
        "# A Function that accepts two arguments, and returns the value of\n",
        "# those numbers added together.\n",
        "def add_numbers(x, y):\n",
        "    return x + y\n",
        "  \n",
        "  \n",
        "\n",
        "# A function that has a default parameter  \n",
        "def my_function(country = \"Norway\"):\n",
        "  print(\"I am from \" + country)"
      ],
      "execution_count": 0,
      "outputs": []
    },
    {
      "cell_type": "markdown",
      "metadata": {
        "id": "NiKnJOJsEPUC",
        "colab_type": "text"
      },
      "source": [
        "==> [Differences between 'print()' and 'return()'](https://stackoverflow.com/questions/7664779/what-is-the-formal-difference-between-print-and-return)"
      ]
    },
    {
      "cell_type": "markdown",
      "metadata": {
        "id": "i0z7JjOihYff",
        "colab_type": "text"
      },
      "source": [
        "<a id=\"lets-code-together\"></a>\n",
        "## Let's Code Together"
      ]
    },
    {
      "cell_type": "markdown",
      "metadata": {
        "id": "6FaIUwoZiGha",
        "colab_type": "text"
      },
      "source": [
        "We will code the game of Hangman together! The aim of the game is to guess a word or phrase by guessing letters. Each time you guess a letter that isn't part of the word, you lose an attempt. You have 7 attempts before the game is over."
      ]
    },
    {
      "cell_type": "code",
      "metadata": {
        "id": "gUJxGXZFNHPH",
        "colab_type": "code",
        "colab": {}
      },
      "source": [
        "# We'll need this for what we are going to do next\n",
        "from IPython.display import clear_output\n",
        "import getpass"
      ],
      "execution_count": 0,
      "outputs": []
    },
    {
      "cell_type": "code",
      "metadata": {
        "id": "eSNcPOCQhzKp",
        "colab_type": "code",
        "colab": {}
      },
      "source": [
        "# This function displays the blanks and letters\n",
        "def display_word(gl, w, a=10):\n",
        "    # First clear the previous display\n",
        "    clear_output()\n",
        "    \n",
        "    for character in w:\n",
        "        if character in gl: \n",
        "          #display the letters already guessed\n",
        "          print(character, end = '')\n",
        "        elif character == ' ': \n",
        "          #print spaces because we don't guess those\n",
        "          print(character, end = '')\n",
        "        else: \n",
        "          #otherwise print a dash\n",
        "          print('_', end = '')\n",
        "    \n",
        "    print(\"\\nAttempts left: \" + str(a))\n",
        "    \n",
        "   \n",
        "  \n",
        "# Let's make a list to store the letters that have already been guessed\n",
        "\n",
        "\n",
        "\n",
        "# We set the number of attempts to guess\n",
        "\n",
        "\n",
        "\n",
        "# Now player 1 inputs a word or phrase\n",
        "\n",
        "\n",
        "# Convert it to lower case to reduce complexity\n",
        "\n",
        "\n",
        "# We make a set out of this word to keep track of all the letters to guess\n",
        "\n",
        "# We also remove spaces because we don't guess those\n",
        "\n",
        "\n",
        "\n",
        "# Start a loop where you keep track of attempts\n",
        "\n",
        "    # Player 2 guesses a letter\n",
        "    \n",
        "    \n",
        "    \n",
        "    # Check if this letter has not been guessed before, in which case add it to the list\n",
        "\n",
        "    \n",
        "    \n",
        "    # Check if the letter is in the actual word or phrase. If not, player 2 loses an attempt.\n",
        "    # Otherwise remove this letter from the list of unique letters \n",
        "    \n",
        "    \n",
        "    # Use the function written above to display the guessed word\n",
        "    \n",
        "    # Check for a win"
      ],
      "execution_count": 0,
      "outputs": []
    },
    {
      "cell_type": "markdown",
      "metadata": {
        "id": "mzCGo1vPxuAD",
        "colab_type": "text"
      },
      "source": [
        "## More challenges"
      ]
    },
    {
      "cell_type": "code",
      "metadata": {
        "id": "esDP0K2qx1rK",
        "colab_type": "code",
        "colab": {}
      },
      "source": [
        "#######################################################\n",
        "################### Challenge 9 #######################\n",
        "#######################################################\n",
        "\n",
        "# Given a string of even length, return the first half. For example, if the string is given as \"WooHoo\" this will yield \"Woo\"."
      ],
      "execution_count": 0,
      "outputs": []
    },
    {
      "cell_type": "code",
      "metadata": {
        "id": "E0NaFvDfx4fG",
        "colab_type": "code",
        "colab": {}
      },
      "source": [
        "#######################################################\n",
        "################### Challenge 10#######################\n",
        "#######################################################\n",
        "\n",
        "# Write a sorting algorithm for a numerical dataset. Create the dataset with the use of list datatype."
      ],
      "execution_count": 0,
      "outputs": []
    },
    {
      "cell_type": "code",
      "metadata": {
        "id": "ntym696AyAF9",
        "colab_type": "code",
        "colab": {}
      },
      "source": [
        "########################################################\n",
        "################### Challenge 11 #######################\n",
        "########################################################\n",
        "\n",
        "#  Which one of these is floor division?\n",
        "# a) /\n",
        "# b) //\n",
        "# c) %\n",
        "# d) None of the mentioned\n",
        "\n",
        "# Solution: c) %"
      ],
      "execution_count": 0,
      "outputs": []
    },
    {
      "cell_type": "code",
      "metadata": {
        "id": "MOmsQJU5yDA9",
        "colab_type": "code",
        "colab": {}
      },
      "source": [
        "#  Suppose list1 is [2, 33, 222, 14, 25], What is list1[-1]? How many elements does the list have?"
      ],
      "execution_count": 0,
      "outputs": []
    },
    {
      "cell_type": "code",
      "metadata": {
        "id": "XSXl09Q6rSqC",
        "colab_type": "code",
        "colab": {}
      },
      "source": [
        "########################################################\n",
        "################### Challenge 13 #######################\n",
        "########################################################\n",
        "\n",
        "\n",
        "# A taxi driver is calculating their profit over two weeks by adding up the fares they charge and subtracting the cost of gas. \n",
        "# The price of gas changes over time - it was $3.52/gallon the first week and $3.57/gallon this second week. \n",
        "# Their car gets 20 miles per gallon.\n",
        "\n",
        "# For the first week the driver had a total of 23 passengers with average $29 fare each, and drove a total of 160 miles. \n",
        "# For the second week they had 17 passengers with average 30 fare each, and drove a total of 220 miles. \n",
        "# Assume that for both weeks they purchase all the gas needed during that week (i.e. they refuel every week to maintain a constant level of gas in the tank).\n",
        "\n",
        "# Based on the above, answer the following questions:\n",
        "\n",
        "# 1. What is their total profit over both weeks?\n",
        "# 2. During which week was their average (mean) profit per passenger higher?"
      ],
      "execution_count": 0,
      "outputs": []
    },
    {
      "cell_type": "code",
      "metadata": {
        "id": "KyTDmel2wcpR",
        "colab_type": "code",
        "colab": {}
      },
      "source": [
        "########################################################\n",
        "################### Challenge 14 #######################\n",
        "########################################################\n",
        "\n",
        "# Ask the user for a number. Depending on whether the number is even or odd, print out an appropriate message to the user.\n",
        "\n",
        "# Extras:\n",
        "\n",
        "# 1. If the number is a multiple of 4, print out a different message.\n",
        "# 2. Ask the user for two numbers: one number to check (call it num) and one number to divide by (check). \n",
        "#   If check divides evenly into num, tell that to the user. If not, print a different appropriate message."
      ],
      "execution_count": 0,
      "outputs": []
    },
    {
      "cell_type": "code",
      "metadata": {
        "id": "7ba0V4PRGB6B",
        "colab_type": "code",
        "colab": {}
      },
      "source": [
        "########################################################\n",
        "################### Challenge 15 #######################\n",
        "########################################################\n",
        "\n",
        "\n",
        "# Complete filter_names function that takes a list of names and returns a filtered list of names using the following conditions:\n",
        "\n",
        "# names that start with IGNORE_CHAR are ignored,\n",
        "# names that have one or more digits are ignored,\n",
        "# if a name starts with QUIT_CHAR it immediately exits the loop, so no more names are added/generated at this point (neither the QUIT_CHAR name),\n",
        "# return up till MAX_NAMES names max.\n",
        "\n",
        "\n",
        "\n",
        "IGNORE_CHAR = 'b'\n",
        "QUIT_CHAR = 'q'\n",
        "MAX_NAMES = 5\n",
        "\n",
        "\n",
        "def filter_names(names):\n",
        "  \n",
        "  \n",
        "  \n",
        "  \n",
        "  \n",
        "filter_names(['dan', 'chidinma', 'joop', 'rihanna', 'queen', 'amber', 'bob', 'c1ndy', 'sara', 'molly', 'henry', 't2im', '1quinton', 'a3na', '4'])"
      ],
      "execution_count": 0,
      "outputs": []
    },
    {
      "cell_type": "markdown",
      "metadata": {
        "colab_type": "text",
        "id": "nKbEFoQiYH7B"
      },
      "source": [
        "<a id='further-reading'></a>\n",
        "## For Further Reading:"
      ]
    },
    {
      "cell_type": "markdown",
      "metadata": {
        "id": "b8My3tchJkOx",
        "colab_type": "text"
      },
      "source": [
        "- [Python Official Documentation](https://docs.python.org/3/)\n",
        "- [Jupyter Tips & Tricks 1](https://medium.com/ibm-data-science-experience/markdown-for-jupyter-notebooks-cheatsheet-386c05aeebed)\n",
        "- [Jupyter Tips & Tricks 2](https://www.dataquest.io/blog/jupyter-notebook-tips-tricks-shortcuts/)\n",
        "- [Python Wiki](https://wiki.python.org/moin/FrontPage)\n",
        "- [W3Schools](https://www.w3schools.com/python/default.asp)"
      ]
    },
    {
      "cell_type": "markdown",
      "metadata": {
        "id": "tPEqCONVI9x-",
        "colab_type": "text"
      },
      "source": [
        "**You Are Amazing!**\n",
        "\n",
        "\n",
        "@ChidinmaKO"
      ]
    },
    {
      "cell_type": "code",
      "metadata": {
        "colab_type": "code",
        "id": "u2b3TAa7fx1o",
        "colab": {}
      },
      "source": [
        ""
      ],
      "execution_count": 0,
      "outputs": []
    }
  ]
}